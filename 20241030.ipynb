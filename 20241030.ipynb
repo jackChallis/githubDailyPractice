{
 "cells": [
  {
   "cell_type": "code",
   "execution_count": 4,
   "id": "0ff58e23",
   "metadata": {},
   "outputs": [
    {
     "name": "stdout",
     "output_type": "stream",
     "text": [
      "True\n",
      "True\n",
      "True\n"
     ]
    }
   ],
   "source": [
    "'''\n",
    "Here's a classic problem from Data Structures and Algorithms that's typically covered in CS200-level courses:\n",
    "\n",
    "Write a function that finds the first non-repeating character in a string and returns its index. If no such character exists, return -1.\n",
    "\n",
    "For example:\n",
    "- Input: \"leetcode\" → Output: 0 (because 'l' is the first character that appears only once)\n",
    "- Input: \"loveleetcode\" → Output: 2 (because 'v' is the first character that appears only once)\n",
    "- Input: \"aabb\" → Output: -1 (because there are no characters that appear only once)\n",
    "\n",
    "This problem tests your understanding of:\n",
    "- Hash maps/dictionaries\n",
    "- String manipulation\n",
    "- Array traversal\n",
    "- Time/space complexity trade-offs\n",
    "\n",
    "Would you like to try solving it? I can provide hints or walk through a solution approach if you'd like.\n",
    "\n",
    "I can see the logic in your solution - you're checking if each character appears anywhere else in the string by looking before and after its position. While this works correctly for the given examples, let's analyze its performance:\n",
    "Time Complexity: O(n²) because:\n",
    "\n",
    "The outer loop runs n times (where n is string length)\n",
    "For each iteration, you're creating new substrings and performing a search, which is also O(n)\n",
    "\n",
    "Space Complexity: O(n) due to string slicing creating new strings\n",
    "'''\n",
    "\n",
    "def firstNonRepeatingIndex(inputString):\n",
    "    for index in range(len(inputString)):\n",
    "        character=inputString[index]\n",
    "        if character not in inputString[:index]+inputString[index+1:]:\n",
    "            return index\n",
    "    return -1\n",
    "\n",
    "print(firstNonRepeatingIndex('leetcode')==0)\n",
    "print(firstNonRepeatingIndex('loveleetcode')==2)\n",
    "print(firstNonRepeatingIndex('aabb')==-1)\n"
   ]
  },
  {
   "cell_type": "code",
   "execution_count": 5,
   "id": "1184a748",
   "metadata": {},
   "outputs": [],
   "source": [
    "'''\n",
    "Here's a more efficient solution using a hash map:\n",
    "\n",
    "This solution has:\n",
    "\n",
    "Time Complexity: O(n) - we only need to traverse the string twice\n",
    "Space Complexity: O(k) where k is the size of the character set (usually constant)\n",
    "'''\n",
    "def firstNonRepeatingIndex(inputString):\n",
    "    # Count frequency of each character\n",
    "    char_count = {}\n",
    "    for char in inputString:\n",
    "        char_count[char] = char_count.get(char, 0) + 1\n",
    "    \n",
    "    # Find first character with count 1\n",
    "    for index, char in enumerate(inputString):\n",
    "        if char_count[char] == 1:\n",
    "            return index\n",
    "    return -1"
   ]
  },
  {
   "cell_type": "code",
   "execution_count": 6,
   "id": "566dd05f",
   "metadata": {},
   "outputs": [
    {
     "name": "stdout",
     "output_type": "stream",
     "text": [
      "True\n",
      "True\n",
      "True\n"
     ]
    }
   ],
   "source": [
    "print(firstNonRepeatingIndex('leetcode')==0)\n",
    "print(firstNonRepeatingIndex('loveleetcode')==2)\n",
    "print(firstNonRepeatingIndex('aabb')==-1)\n"
   ]
  },
  {
   "cell_type": "code",
   "execution_count": null,
   "id": "08a960c6",
   "metadata": {},
   "outputs": [],
   "source": []
  }
 ],
 "metadata": {
  "kernelspec": {
   "display_name": "Python 3",
   "language": "python",
   "name": "python3"
  },
  "language_info": {
   "codemirror_mode": {
    "name": "ipython",
    "version": 3
   },
   "file_extension": ".py",
   "mimetype": "text/x-python",
   "name": "python",
   "nbconvert_exporter": "python",
   "pygments_lexer": "ipython3",
   "version": "3.8.8"
  }
 },
 "nbformat": 4,
 "nbformat_minor": 5
}
